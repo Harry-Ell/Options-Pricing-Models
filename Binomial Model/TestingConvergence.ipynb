{
 "cells": [
  {
   "cell_type": "code",
   "execution_count": 39,
   "metadata": {},
   "outputs": [],
   "source": [
    "import numpy as np\n",
    "import matplotlib.pyplot as plt\n",
    "from BinomialPricingModelScript import BinomialPricingModel\n",
    "from py_vollib.black_scholes import black_scholes as bs \n"
   ]
  },
  {
   "cell_type": "code",
   "execution_count": 40,
   "metadata": {},
   "outputs": [],
   "source": [
    "stock_price = 100\n",
    "strike_price = 110\n",
    "days_to_expiry = 365\n",
    "interest_rate = 0.06\n",
    "time_steps = [i for i in range(10, 500, 10)]\n",
    "volatility = 0.1"
   ]
  },
  {
   "cell_type": "code",
   "execution_count": 42,
   "metadata": {},
   "outputs": [],
   "source": [
    "# Define your parameters\n",
    "stock_price = 100\n",
    "strike_price = 100\n",
    "days_to_expiry = 30\n",
    "interest_rate = 0.05\n",
    "volatility = 0.2\n",
    "time_steps = [i for i in range(10, 1000, 10)]  # example list of time steps\n",
    "tree_depth = 10  # Example value for tree_depth\n"
   ]
  },
  {
   "cell_type": "code",
   "execution_count": 44,
   "metadata": {},
   "outputs": [
    {
     "ename": "TypeError",
     "evalue": "BinomialPricingModel.__init__() missing 1 required positional argument: 'volatility'",
     "output_type": "error",
     "traceback": [
      "\u001b[1;31m---------------------------------------------------------------------------\u001b[0m",
      "\u001b[1;31mTypeError\u001b[0m                                 Traceback (most recent call last)",
      "Cell \u001b[1;32mIn[44], line 5\u001b[0m\n\u001b[0;32m      2\u001b[0m \u001b[38;5;66;03m# Loop through each step in time_steps, create an instance, and call the method\u001b[39;00m\n\u001b[0;32m      3\u001b[0m \u001b[38;5;28;01mfor\u001b[39;00m steps \u001b[38;5;129;01min\u001b[39;00m time_steps:\n\u001b[0;32m      4\u001b[0m     \u001b[38;5;66;03m# create an instance of the class\u001b[39;00m\n\u001b[1;32m----> 5\u001b[0m     model \u001b[38;5;241m=\u001b[39m \u001b[43mBinomialPricingModel\u001b[49m\u001b[43m(\u001b[49m\u001b[43mstock_price\u001b[49m\u001b[43m,\u001b[49m\u001b[43m \u001b[49m\u001b[43mstrike_price\u001b[49m\u001b[43m,\u001b[49m\u001b[43m \u001b[49m\u001b[43mdays_to_expiry\u001b[49m\u001b[43m,\u001b[49m\u001b[43m \u001b[49m\u001b[43msteps\u001b[49m\u001b[43m,\u001b[49m\u001b[43m \u001b[49m\u001b[43minterest_rate\u001b[49m\u001b[43m,\u001b[49m\u001b[43m \u001b[49m\u001b[43mvolatility\u001b[49m\u001b[43m)\u001b[49m\n\u001b[0;32m      6\u001b[0m     \u001b[38;5;66;03m# call the method\u001b[39;00m\n\u001b[0;32m      7\u001b[0m     european_price \u001b[38;5;241m=\u001b[39m model\u001b[38;5;241m.\u001b[39meuropean_option()\n",
      "\u001b[1;31mTypeError\u001b[0m: BinomialPricingModel.__init__() missing 1 required positional argument: 'volatility'"
     ]
    }
   ],
   "source": [
    "my_model_list = []\n",
    "# Loop through each step in time_steps, create an instance, and call the method\n",
    "for steps in time_steps:\n",
    "    # create an instance of the class\n",
    "    model = BinomialPricingModel(stock_price, strike_price, days_to_expiry, steps, interest_rate, volatility)\n",
    "    # call the method\n",
    "    european_price = model.european_option()\n",
    "    my_model_list.append(european_price)\n",
    "BS = [bs('c',stock_price, strike_price, days_to_expiry/365, interest_rate, volatility) for i in time_steps]"
   ]
  },
  {
   "cell_type": "code",
   "execution_count": 32,
   "metadata": {},
   "outputs": [
    {
     "data": {
      "text/plain": [
       "<matplotlib.legend.Legend at 0x1e724724920>"
      ]
     },
     "execution_count": 32,
     "metadata": {},
     "output_type": "execute_result"
    },
    {
     "data": {
      "image/png": "[encoded data removed]",
      "text/plain": [
       "<Figure size 640x480 with 1 Axes>"
      ]
     },
     "metadata": {},
     "output_type": "display_data"
    }
   ],
   "source": [
    "plt.plot(time_steps,BS, label = 'Black Scholes')\n",
    "plt.plot(time_steps, my_model_list, label = 'Binomial Pricing')\n",
    "plt.legend()"
   ]
  },
  {
   "cell_type": "code",
   "execution_count": null,
   "metadata": {},
   "outputs": [],
   "source": []
  }
 ],
 "metadata": {
  "kernelspec": {
   "display_name": "Python 3",
   "language": "python",
   "name": "python3"
  },
  "language_info": {
   "codemirror_mode": {
    "name": "ipython",
    "version": 3
   },
   "file_extension": ".py",
   "mimetype": "text/x-python",
   "name": "python",
   "nbconvert_exporter": "python",
   "pygments_lexer": "ipython3",
   "version": "3.12.3"
  }
 },
 "nbformat": 4,
 "nbformat_minor": 2
}
